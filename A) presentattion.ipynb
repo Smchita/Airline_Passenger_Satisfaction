{
 "cells": [
  {
   "cell_type": "markdown",
   "id": "ece258cc",
   "metadata": {},
   "source": [
    "# I - Presentation du jeu de données"
   ]
  },
  {
   "cell_type": "markdown",
   "id": "772e1017",
   "metadata": {},
   "source": [
    "Le jeu de données \"Airline Passenger Satisfaction\" contient des informations sur les passagers d'une agence aérienne, notamment:\n",
    "\n",
    "```\n",
    "'Gender', 'Customer Type', 'Age', 'Type of Travel', \n",
    "'Class', 'Flight Distance', 'Inflight', 'wifi service',\t\n",
    "'Departure/Arrival', 'time convenient',\t...\t'Inflight'\n",
    "'entertainment', 'On-board service',\t'Leg room service',\t\n",
    "'Baggage handling',\t'Checking service',\t'Inflight service',\t\n",
    "'Cleanliness',\t'Departure Delay in Minutes',\t\n",
    "'Arrival Delay in Minutes' et\t'satisfaction'\n",
    "```\n",
    "\n",
    " L'objectif de mon projet est d'analyser et de déterminer quelles sont les variables qui ont le plus d'impact sur la satisfaction des passagers. Il y'a deux fichier, notamment:\n",
    "      \n",
    "                fichier \"train.csv\" et \"test.csv\"\n",
    "\n",
    "Le fichier \"train.csv\" contient les données d'apprentissage qui seront utilisées pour entraîner notre modèle de prédiction, tandis que le fichier \"test.csv\" contient les données de test qui seront utilisées pour évaluer les performances de votre modèle.\n",
    "\n",
    "Avant de commencer à analyser les données, il est important de faire un nettoyage des données pour s'assurer qu'elles sont cohérentes et qu'elles ne contiennent pas d'erreurs ou de données manquantes. Nous allons également effectuer une analyse exploratoire des données pour visualiser les relations entre les différentes variables et pour mieux comprendre les tendances et les motifs dans les données.\n",
    "\n",
    "Ensuite, nous allons utiliser une modélisation de machine learning, notamment:\n",
    "       \n",
    "                K plus proches voisins \n",
    "\n",
    "pour chercher la meilleur classeur, selon le score, afin de prédire la satisfaction des passagers en fonction des différentes variables.\n"
   ]
  },
  {
   "cell_type": "code",
   "execution_count": null,
   "id": "ba128489",
   "metadata": {},
   "outputs": [],
   "source": []
  }
 ],
 "metadata": {
  "kernelspec": {
   "display_name": "Python 3 (ipykernel)",
   "language": "python",
   "name": "python3"
  },
  "language_info": {
   "codemirror_mode": {
    "name": "ipython",
    "version": 3
   },
   "file_extension": ".py",
   "mimetype": "text/x-python",
   "name": "python",
   "nbconvert_exporter": "python",
   "pygments_lexer": "ipython3",
   "version": "3.10.6"
  }
 },
 "nbformat": 4,
 "nbformat_minor": 5
}
