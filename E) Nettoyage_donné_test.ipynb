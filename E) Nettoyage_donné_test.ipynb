{
 "cells": [
  {
   "cell_type": "markdown",
   "id": "80690b93",
   "metadata": {},
   "source": [
    "# VI- Nettoyage des données test\n",
    "Le classeur **KNN** sera évalué sur l'ensemble des données test. Pour ça, il faut d'abord nettoyer le jeu de données test. Dans le cas du nettoyage des données test, on intéressera seulement aux valeurs manquantes car celles-ci constituent un \"oubli\" de la part de celui qui a saisi. Après on va laisser à notre classeur le soin de prédire la classe de chaque donnée.\n"
   ]
  },
  {
   "cell_type": "markdown",
   "id": "1578f5fb",
   "metadata": {},
   "source": [
    "            1) Importation du fichier test"
   ]
  },
  {
   "cell_type": "code",
   "execution_count": 53,
   "id": "49d44ea5",
   "metadata": {},
   "outputs": [],
   "source": [
    "df2 = pd.read_csv(\"/home/users/etudiant/Documents/Qualité des donnée  2/test.csv\", sep = ',' , header = 0 )"
   ]
  },
  {
   "cell_type": "markdown",
   "id": "f3486573",
   "metadata": {},
   "source": [
    "De meme que pour nos données train, on va supprimer les colonnes **'Unnamed: 0'**, **'id'** et **'Departure Delay in Minutes'**."
   ]
  },
  {
   "cell_type": "code",
   "execution_count": 37,
   "id": "2334b4d1",
   "metadata": {},
   "outputs": [
    {
     "data": {
      "text/html": [
       "<div>\n",
       "<style scoped>\n",
       "    .dataframe tbody tr th:only-of-type {\n",
       "        vertical-align: middle;\n",
       "    }\n",
       "\n",
       "    .dataframe tbody tr th {\n",
       "        vertical-align: top;\n",
       "    }\n",
       "\n",
       "    .dataframe thead th {\n",
       "        text-align: right;\n",
       "    }\n",
       "</style>\n",
       "<table border=\"1\" class=\"dataframe\">\n",
       "  <thead>\n",
       "    <tr style=\"text-align: right;\">\n",
       "      <th></th>\n",
       "      <th>Gender</th>\n",
       "      <th>Customer Type</th>\n",
       "      <th>Age</th>\n",
       "      <th>Type of Travel</th>\n",
       "      <th>Class</th>\n",
       "      <th>Flight Distance</th>\n",
       "      <th>Inflight wifi service</th>\n",
       "      <th>Departure/Arrival time convenient</th>\n",
       "      <th>Ease of Online booking</th>\n",
       "      <th>Gate location</th>\n",
       "      <th>...</th>\n",
       "      <th>Seat comfort</th>\n",
       "      <th>Inflight entertainment</th>\n",
       "      <th>On-board service</th>\n",
       "      <th>Leg room service</th>\n",
       "      <th>Baggage handling</th>\n",
       "      <th>Checkin service</th>\n",
       "      <th>Inflight service</th>\n",
       "      <th>Cleanliness</th>\n",
       "      <th>Arrival Delay in Minutes</th>\n",
       "      <th>satisfaction</th>\n",
       "    </tr>\n",
       "  </thead>\n",
       "  <tbody>\n",
       "    <tr>\n",
       "      <th>0</th>\n",
       "      <td>Female</td>\n",
       "      <td>Loyal Customer</td>\n",
       "      <td>52</td>\n",
       "      <td>Business travel</td>\n",
       "      <td>Eco</td>\n",
       "      <td>160</td>\n",
       "      <td>5</td>\n",
       "      <td>4</td>\n",
       "      <td>3</td>\n",
       "      <td>4</td>\n",
       "      <td>...</td>\n",
       "      <td>3</td>\n",
       "      <td>5</td>\n",
       "      <td>5</td>\n",
       "      <td>5</td>\n",
       "      <td>5</td>\n",
       "      <td>2</td>\n",
       "      <td>5</td>\n",
       "      <td>5</td>\n",
       "      <td>44.0</td>\n",
       "      <td>satisfied</td>\n",
       "    </tr>\n",
       "    <tr>\n",
       "      <th>1</th>\n",
       "      <td>Female</td>\n",
       "      <td>Loyal Customer</td>\n",
       "      <td>36</td>\n",
       "      <td>Business travel</td>\n",
       "      <td>Business</td>\n",
       "      <td>2863</td>\n",
       "      <td>1</td>\n",
       "      <td>1</td>\n",
       "      <td>3</td>\n",
       "      <td>1</td>\n",
       "      <td>...</td>\n",
       "      <td>5</td>\n",
       "      <td>4</td>\n",
       "      <td>4</td>\n",
       "      <td>4</td>\n",
       "      <td>4</td>\n",
       "      <td>3</td>\n",
       "      <td>4</td>\n",
       "      <td>5</td>\n",
       "      <td>0.0</td>\n",
       "      <td>satisfied</td>\n",
       "    </tr>\n",
       "    <tr>\n",
       "      <th>2</th>\n",
       "      <td>Male</td>\n",
       "      <td>disloyal Customer</td>\n",
       "      <td>20</td>\n",
       "      <td>Business travel</td>\n",
       "      <td>Eco</td>\n",
       "      <td>192</td>\n",
       "      <td>2</td>\n",
       "      <td>0</td>\n",
       "      <td>2</td>\n",
       "      <td>4</td>\n",
       "      <td>...</td>\n",
       "      <td>2</td>\n",
       "      <td>2</td>\n",
       "      <td>4</td>\n",
       "      <td>1</td>\n",
       "      <td>3</td>\n",
       "      <td>2</td>\n",
       "      <td>2</td>\n",
       "      <td>2</td>\n",
       "      <td>0.0</td>\n",
       "      <td>neutral or dissatisfied</td>\n",
       "    </tr>\n",
       "    <tr>\n",
       "      <th>3</th>\n",
       "      <td>Male</td>\n",
       "      <td>Loyal Customer</td>\n",
       "      <td>44</td>\n",
       "      <td>Business travel</td>\n",
       "      <td>Business</td>\n",
       "      <td>3377</td>\n",
       "      <td>0</td>\n",
       "      <td>0</td>\n",
       "      <td>0</td>\n",
       "      <td>2</td>\n",
       "      <td>...</td>\n",
       "      <td>4</td>\n",
       "      <td>1</td>\n",
       "      <td>1</td>\n",
       "      <td>1</td>\n",
       "      <td>1</td>\n",
       "      <td>3</td>\n",
       "      <td>1</td>\n",
       "      <td>4</td>\n",
       "      <td>6.0</td>\n",
       "      <td>satisfied</td>\n",
       "    </tr>\n",
       "    <tr>\n",
       "      <th>4</th>\n",
       "      <td>Female</td>\n",
       "      <td>Loyal Customer</td>\n",
       "      <td>49</td>\n",
       "      <td>Business travel</td>\n",
       "      <td>Eco</td>\n",
       "      <td>1182</td>\n",
       "      <td>2</td>\n",
       "      <td>3</td>\n",
       "      <td>4</td>\n",
       "      <td>3</td>\n",
       "      <td>...</td>\n",
       "      <td>2</td>\n",
       "      <td>2</td>\n",
       "      <td>2</td>\n",
       "      <td>2</td>\n",
       "      <td>2</td>\n",
       "      <td>4</td>\n",
       "      <td>2</td>\n",
       "      <td>4</td>\n",
       "      <td>20.0</td>\n",
       "      <td>satisfied</td>\n",
       "    </tr>\n",
       "  </tbody>\n",
       "</table>\n",
       "<p>5 rows × 22 columns</p>\n",
       "</div>"
      ],
      "text/plain": [
       "   Gender      Customer Type  Age   Type of Travel     Class  Flight Distance  \\\n",
       "0  Female     Loyal Customer   52  Business travel       Eco              160   \n",
       "1  Female     Loyal Customer   36  Business travel  Business             2863   \n",
       "2    Male  disloyal Customer   20  Business travel       Eco              192   \n",
       "3    Male     Loyal Customer   44  Business travel  Business             3377   \n",
       "4  Female     Loyal Customer   49  Business travel       Eco             1182   \n",
       "\n",
       "   Inflight wifi service  Departure/Arrival time convenient  \\\n",
       "0                      5                                  4   \n",
       "1                      1                                  1   \n",
       "2                      2                                  0   \n",
       "3                      0                                  0   \n",
       "4                      2                                  3   \n",
       "\n",
       "   Ease of Online booking  Gate location  ...  Seat comfort  \\\n",
       "0                       3              4  ...             3   \n",
       "1                       3              1  ...             5   \n",
       "2                       2              4  ...             2   \n",
       "3                       0              2  ...             4   \n",
       "4                       4              3  ...             2   \n",
       "\n",
       "   Inflight entertainment  On-board service  Leg room service  \\\n",
       "0                       5                 5                 5   \n",
       "1                       4                 4                 4   \n",
       "2                       2                 4                 1   \n",
       "3                       1                 1                 1   \n",
       "4                       2                 2                 2   \n",
       "\n",
       "   Baggage handling  Checkin service  Inflight service  Cleanliness  \\\n",
       "0                 5                2                 5            5   \n",
       "1                 4                3                 4            5   \n",
       "2                 3                2                 2            2   \n",
       "3                 1                3                 1            4   \n",
       "4                 2                4                 2            4   \n",
       "\n",
       "   Arrival Delay in Minutes             satisfaction  \n",
       "0                      44.0                satisfied  \n",
       "1                       0.0                satisfied  \n",
       "2                       0.0  neutral or dissatisfied  \n",
       "3                       6.0                satisfied  \n",
       "4                      20.0                satisfied  \n",
       "\n",
       "[5 rows x 22 columns]"
      ]
     },
     "execution_count": 37,
     "metadata": {},
     "output_type": "execute_result"
    }
   ],
   "source": [
    "df2_clean = df2.drop(['Unnamed: 0', 'id', 'Departure Delay in Minutes'], axis = 1)\n",
    "df2_clean.head()"
   ]
  },
  {
   "cell_type": "markdown",
   "id": "e206ef58",
   "metadata": {},
   "source": [
    "          2) Traitement des valeurs manquantes"
   ]
  },
  {
   "cell_type": "markdown",
   "id": "d5ee1a09",
   "metadata": {},
   "source": [
    "Grace a la ligne de code suivante: **dftest_clean.isnull().sum()**, on va chercher les **valeurs manquantes** et s'en occuper par la suite:"
   ]
  },
  {
   "cell_type": "code",
   "execution_count": 38,
   "id": "a0b5e56c",
   "metadata": {},
   "outputs": [
    {
     "data": {
      "text/plain": [
       "Gender                                0\n",
       "Customer Type                         0\n",
       "Age                                   0\n",
       "Type of Travel                        0\n",
       "Class                                 0\n",
       "Flight Distance                       0\n",
       "Inflight wifi service                 0\n",
       "Departure/Arrival time convenient     0\n",
       "Ease of Online booking                0\n",
       "Gate location                         0\n",
       "Food and drink                        0\n",
       "Online boarding                       0\n",
       "Seat comfort                          0\n",
       "Inflight entertainment                0\n",
       "On-board service                      0\n",
       "Leg room service                      0\n",
       "Baggage handling                      0\n",
       "Checkin service                       0\n",
       "Inflight service                      0\n",
       "Cleanliness                           0\n",
       "Arrival Delay in Minutes             83\n",
       "satisfaction                          0\n",
       "dtype: int64"
      ]
     },
     "execution_count": 38,
     "metadata": {},
     "output_type": "execute_result"
    }
   ],
   "source": [
    "df2_clean.isnull().sum() "
   ]
  },
  {
   "cell_type": "markdown",
   "id": "c57434fe",
   "metadata": {},
   "source": [
    "De meme que le fichier **train** seule la variable **Arrival Delay in Minutes** qui contient **83** valeurs manquantes."
   ]
  },
  {
   "cell_type": "code",
   "execution_count": 39,
   "id": "bf73c442",
   "metadata": {},
   "outputs": [
    {
     "name": "stdout",
     "output_type": "stream",
     "text": [
      "   Les frequance des retards sont:\n",
      " 0.0      56.182630\n",
      "1.0       2.063443\n",
      "2.0       2.013397\n",
      "3.0       1.886357\n",
      "4.0       1.793964\n",
      "           ...    \n",
      "307.0     0.003850\n",
      "285.0     0.003850\n",
      "347.0     0.003850\n",
      "795.0     0.003850\n",
      "288.0     0.003850\n",
      "Name: Arrival Delay in Minutes, Length: 320, dtype: float64\n",
      "\n",
      " La mediane de minuites de retards des vols est egale à:\n",
      " 0.0\n"
     ]
    }
   ],
   "source": [
    "mediane_retard_df2 = df2_clean['Arrival Delay in Minutes'].median() \n",
    "frequance_retard_df2 = df2_clean['Arrival Delay in Minutes'].value_counts()/df2_clean.shape[0]*100\n",
    "\n",
    "print(\"   Les frequance des retards sont:\\n\",frequance_retard_df2 )\n",
    "print(\"\\n La mediane de minuites de retards des vols est egale à:\\n\", mediane_retard_df2)"
   ]
  },
  {
   "cell_type": "markdown",
   "id": "7a02c63c",
   "metadata": {},
   "source": [
    "Plus grande fréquence de retard: on a **56% des vols** qui n'ont pas fait des retard, **fréquence de 0.0 min**.\n",
    "On remplace les **valeurs manquantes** par la **médiane** ou par la valeur de **minutes de retard** le plus fréquenté, elles sont toutes les deux égale à **0.0**."
   ]
  },
  {
   "cell_type": "code",
   "execution_count": 40,
   "id": "ff60eef3",
   "metadata": {},
   "outputs": [],
   "source": [
    "df2_clean['Arrival Delay in Minutes'] = df2_clean['Arrival Delay in Minutes'].fillna(mediane_retard_df2)"
   ]
  },
  {
   "cell_type": "code",
   "execution_count": 41,
   "id": "6a28ee9a",
   "metadata": {},
   "outputs": [
    {
     "data": {
      "text/plain": [
       "Gender                               0\n",
       "Customer Type                        0\n",
       "Age                                  0\n",
       "Type of Travel                       0\n",
       "Class                                0\n",
       "Flight Distance                      0\n",
       "Inflight wifi service                0\n",
       "Departure/Arrival time convenient    0\n",
       "Ease of Online booking               0\n",
       "Gate location                        0\n",
       "Food and drink                       0\n",
       "Online boarding                      0\n",
       "Seat comfort                         0\n",
       "Inflight entertainment               0\n",
       "On-board service                     0\n",
       "Leg room service                     0\n",
       "Baggage handling                     0\n",
       "Checkin service                      0\n",
       "Inflight service                     0\n",
       "Cleanliness                          0\n",
       "Arrival Delay in Minutes             0\n",
       "satisfaction                         0\n",
       "dtype: int64"
      ]
     },
     "execution_count": 41,
     "metadata": {},
     "output_type": "execute_result"
    }
   ],
   "source": [
    "df2_clean.isnull().sum() "
   ]
  },
  {
   "cell_type": "markdown",
   "id": "b63f8121",
   "metadata": {},
   "source": [
    "             2) Transformation des variables types 'objet' en variables types 'int'\n",
    "De même que le fichier **train**, les variables \n",
    "```\n",
    "['Gender', 'Customer Type', 'Type of Travel', 'Class', 'satisfaction']\n",
    "```\n",
    "sont des types chaînes des caractères. Le classeur **KNN** recommande des variables des types **int** pour la calcul des **distance des K plus proches voisins**."
   ]
  },
  {
   "cell_type": "code",
   "execution_count": 42,
   "id": "bc3dc8f5",
   "metadata": {},
   "outputs": [],
   "source": [
    "df2_clean['Gender'] = df2_clean['Gender'].map({'Male' : 0, 'Female' : 1})\n",
    "df2_clean['Customer Type'] = df2_clean['Customer Type'].map({'Loyal Customer' : 0, 'disloyal Customer' : 1})\n",
    "df2_clean['Type of Travel'] = df2_clean['Type of Travel'].map({'Personal Travel' : 0, 'Business travel' : 1})\n",
    "df2_clean['Class'] = df2_clean['Class'].map({'Business' : 2, 'Eco Plus' : 1, 'Eco' : 0})\n",
    "df2_clean['satisfaction'] = df2_clean['satisfaction'].map({'neutral or dissatisfied' : 0, 'satisfied' : 1})"
   ]
  }
 ],
 "metadata": {
  "kernelspec": {
   "display_name": "Python 3 (ipykernel)",
   "language": "python",
   "name": "python3"
  },
  "language_info": {
   "codemirror_mode": {
    "name": "ipython",
    "version": 3
   },
   "file_extension": ".py",
   "mimetype": "text/x-python",
   "name": "python",
   "nbconvert_exporter": "python",
   "pygments_lexer": "ipython3",
   "version": "3.9.13"
  }
 },
 "nbformat": 4,
 "nbformat_minor": 5
}
